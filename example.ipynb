{
 "cells": [
  {
   "cell_type": "code",
   "execution_count": 1,
   "id": "4ce9b83f",
   "metadata": {
    "_cell_guid": "b1076dfc-b9ad-4769-8c92-a6c4dae69d19",
    "_uuid": "8f2839f25d086af736a60e9eeb907d3b93b6e0e5",
    "execution": {
     "iopub.execute_input": "2025-03-08T11:42:47.616638Z",
     "iopub.status.busy": "2025-03-08T11:42:47.616264Z",
     "iopub.status.idle": "2025-03-08T11:42:48.893261Z",
     "shell.execute_reply": "2025-03-08T11:42:48.892027Z"
    },
    "papermill": {
     "duration": 1.282091,
     "end_time": "2025-03-08T11:42:48.895268",
     "exception": false,
     "start_time": "2025-03-08T11:42:47.613177",
     "status": "completed"
    },
    "tags": []
   },
   "outputs": [
    {
     "name": "stdout",
     "output_type": "stream",
     "text": [
      "Cloning into 'AI-Group-1'...\r\n",
      "remote: Enumerating objects: 28, done.\u001b[K\r\n",
      "remote: Counting objects: 100% (28/28), done.\u001b[K\r\n",
      "remote: Compressing objects: 100% (21/21), done.\u001b[K\r\n",
      "remote: Total 28 (delta 3), reused 18 (delta 1), pack-reused 0 (from 0)\u001b[K\r\n",
      "Receiving objects: 100% (28/28), 900.52 KiB | 26.49 MiB/s, done.\r\n",
      "Resolving deltas: 100% (3/3), done.\r\n"
     ]
    }
   ],
   "source": [
    "!git clone https://github.com/chalachew-mulu/AI-Group-1"
   ]
  },
  {
   "cell_type": "code",
   "execution_count": null,
   "id": "3d237f67",
   "metadata": {
    "papermill": {
     "duration": 0.001565,
     "end_time": "2025-03-08T11:42:48.899188",
     "exception": false,
     "start_time": "2025-03-08T11:42:48.897623",
     "status": "completed"
    },
    "tags": []
   },
   "outputs": [],
   "source": []
  }
 ],
 "metadata": {
  "kaggle": {
   "accelerator": "none",
   "dataSources": [],
   "dockerImageVersionId": 30918,
   "isGpuEnabled": false,
   "isInternetEnabled": true,
   "language": "python",
   "sourceType": "notebook"
  },
  "kernelspec": {
   "display_name": "Python 3",
   "language": "python",
   "name": "python3"
  },
  "language_info": {
   "codemirror_mode": {
    "name": "ipython",
    "version": 3
   },
   "file_extension": ".py",
   "mimetype": "text/x-python",
   "name": "python",
   "nbconvert_exporter": "python",
   "pygments_lexer": "ipython3",
   "version": "3.10.12"
  },
  "papermill": {
   "default_parameters": {},
   "duration": 4.669956,
   "end_time": "2025-03-08T11:42:49.420429",
   "environment_variables": {},
   "exception": null,
   "input_path": "__notebook__.ipynb",
   "output_path": "__notebook__.ipynb",
   "parameters": {},
   "start_time": "2025-03-08T11:42:44.750473",
   "version": "2.6.0"
  }
 },
 "nbformat": 4,
 "nbformat_minor": 5
}
